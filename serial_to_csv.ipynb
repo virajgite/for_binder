{
 "cells": [
  {
   "cell_type": "code",
   "execution_count": 47,
   "metadata": {},
   "outputs": [
    {
     "name": "stdout",
     "output_type": "stream",
     "text": [
      "COM1\n",
      "COM2\n",
      "['hello,hi \\n', 'Viraj Gite']\n"
     ]
    }
   ],
   "source": [
    "import serial\n",
    "import io\n",
    "\n",
    "ser1 = serial.Serial('COM1',timeout=1)  # open serial port\n",
    "print(ser1.name)         # check which port was really used\n",
    "\n",
    "ser2=serial.Serial('COM2',timeout=2)\n",
    "print(ser2.name)\n",
    "\n",
    "sio = io.TextIOWrapper(io.BufferedRWPair(ser1, ser2))\n",
    "sio.write(\"hello,hi \\n\") #write string\n",
    "sio.write(\"Viraj Gite\") #write string\n",
    "\n",
    "sio.flush()\n",
    "message=sio.readlines()\n",
    "print(message)\n",
    "\n",
    "f = open(\"demo.csv\", \"w\")\n",
    "\n",
    "for x in message:\n",
    "    f.write(x)\n",
    "\n",
    "f.close()\n",
    "ser1.close()\n",
    "ser2.close()\n"
   ]
  },
  {
   "cell_type": "code",
   "execution_count": 45,
   "metadata": {},
   "outputs": [],
   "source": [
    "ser1.close()\n",
    "ser2.close()\n"
   ]
  },
  {
   "cell_type": "code",
   "execution_count": null,
   "metadata": {},
   "outputs": [],
   "source": []
  },
  {
   "cell_type": "code",
   "execution_count": null,
   "metadata": {},
   "outputs": [],
   "source": []
  }
 ],
 "metadata": {
  "kernelspec": {
   "display_name": "Python 3",
   "language": "python",
   "name": "python3"
  },
  "language_info": {
   "codemirror_mode": {
    "name": "ipython",
    "version": 3
   },
   "file_extension": ".py",
   "mimetype": "text/x-python",
   "name": "python",
   "nbconvert_exporter": "python",
   "pygments_lexer": "ipython3",
   "version": "3.6.5"
  }
 },
 "nbformat": 4,
 "nbformat_minor": 2
}
